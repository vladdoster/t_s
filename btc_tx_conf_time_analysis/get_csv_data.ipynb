{
 "cells": [
  {
   "cell_type": "code",
   "execution_count": 10,
   "metadata": {},
   "outputs": [],
   "source": [
    "import pandas as pd\n",
    "from pathlib import Path"
   ]
  },
  {
   "cell_type": "code",
   "execution_count": 11,
   "metadata": {},
   "outputs": [
    {
     "name": "stdout",
     "output_type": "stream",
     "text": [
      "\"mean_transaction_confirmation_time.csv already exists in this directory, skipping download\n",
      "         date      value\n",
      "0  2018-11-25  10.183333\n",
      "1  2018-11-26  13.883333\n",
      "2  2018-11-27   9.900000\n",
      "3  2018-11-28  12.966667\n",
      "4  2018-11-29  14.600000\n"
     ]
    }
   ],
   "source": [
    "filename = 'mean_transaction_confirmation_time.csv'\n",
    "config = Path(filename)\n",
    "if config.is_file():\n",
    "    print(f'\"{filename}\" already exists in this directory, skipping download')\n",
    "    df2 = pd.read_csv(filename)\n",
    "    print(df2.head())\n",
    "else:\n",
    "    url = 'https://api.blockchain.info/charts/median-confirmation-time?format=csv'\n",
    "    df = pd.read_csv(url, names=['date', 'value'], parse_dates=['date'])\n",
    "    print(df.head())\n",
    "    df.to_csv(filename, sep=',', encoding='utf-8', index=False)\n",
    "    print(f'\"{filename}\" downloaded and writen to current directory')"
   ]
  }
 ],
 "metadata": {
  "kernelspec": {
   "display_name": "venv",
   "language": "python",
   "name": "venv"
  },
  "language_info": {
   "codemirror_mode": {
    "name": "ipython",
    "version": 3
   },
   "file_extension": ".py",
   "mimetype": "text/x-python",
   "name": "python",
   "nbconvert_exporter": "python",
   "pygments_lexer": "ipython3",
   "version": "3.7.3"
  }
 },
 "nbformat": 4,
 "nbformat_minor": 4
}
